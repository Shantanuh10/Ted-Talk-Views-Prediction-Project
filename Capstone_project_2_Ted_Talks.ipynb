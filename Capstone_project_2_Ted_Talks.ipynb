{
  "nbformat": 4,
  "nbformat_minor": 0,
  "metadata": {
    "colab": {
      "name": "Capstone project-2_Ted Talks.ipynb",
      "provenance": [],
      "authorship_tag": "ABX9TyMHg+KkS5VrcPgTJmbvwuhE",
      "include_colab_link": true
    },
    "kernelspec": {
      "name": "python3",
      "display_name": "Python 3"
    },
    "language_info": {
      "name": "python"
    }
  },
  "cells": [
    {
      "cell_type": "markdown",
      "metadata": {
        "id": "view-in-github",
        "colab_type": "text"
      },
      "source": [
        "<a href=\"https://colab.research.google.com/github/Shantanuh10/Ted-Talk-Views-Prediction-Project/blob/main/Capstone_project_2_Ted_Talks.ipynb\" target=\"_parent\"><img src=\"https://colab.research.google.com/assets/colab-badge.svg\" alt=\"Open In Colab\"/></a>"
      ]
    },
    {
      "cell_type": "markdown",
      "source": [
        "#**<font size=\"+3\" color='#053c40'><b> $Ted$ $Talk$ $Views$ $Prediction$ </b></font>**\n",
        "\n",
        "\n",
        "---\n",
        "\n",
        "\n",
        "#<font size=\"+2\" color='#053c96'><b> About this Project </b></font>\n",
        "\n",
        "This is a Machine Learning Capstone Project, which is part of AlmaBetter's Data Science Pro Program Curriculum.\n",
        "\n",
        "\n",
        "\n",
        "---\n",
        "\n",
        "\n",
        "\n",
        "\n",
        "#<font size=\"+2\" color='#053c96'><b> Problem Statement </b></font>\n",
        "\n",
        "TED is devoted to spreading powerful ideas on just about any topic. These datasets contain over 4,000 TED talks including transcripts in many languages.\n",
        "\n",
        "\n",
        "Founded in 1984 by Richard Salman as a nonprofit organization that aimed at bringing experts from the fields of Technology, Entertainment, and Design together, TED Conferences have gone on to become the Mecca of ideas from virtually all walks of life. As of 2015, TED and its sister TEDx chapters have published more than 2000 talks for free consumption by the masses and its speaker list boasts of the likes of Al Gore, Jimmy Wales, Shahrukh Khan, and Bill Gates.\n",
        "\n",
        "The main objective is to build a predictive model, which could help in predicting the views of the videos uploaded on the TEDx website.\n",
        "\n",
        "\n",
        "\n",
        "\n",
        "\n",
        "---\n",
        "\n",
        "#<font size=\"+2\" color='#053c96'><b> Dataset Information </b></font>\n",
        "\n",
        "\n",
        "*   Number of instances: 4,005\n",
        "*   Number of attributes: 19\n",
        "\n",
        "---\n",
        "\n",
        "#<font size=\"+2\" color='#053c96'><b> Understanding the Data </b></font>\n",
        "\n",
        "The dataset contains features like:\n",
        "\n",
        "* talk_id: Talk identification number provided by TED\n",
        "\n",
        "* title: Title of the talk\n",
        "\n",
        "* speaker_1: First speaker in TED's speaker list\n",
        "\n",
        "* all_speakers: Speakers in the talk\n",
        "\n",
        "* occupations: Occupations of the speakers\n",
        "\n",
        "* about_speakers: Blurb about each speaker\n",
        "\n",
        "* recorded_date: Date the talk was recorded\n",
        "\n",
        "* published_date: Date the talk was published to TED.com\n",
        "\n",
        "* event: Event or medium in which the talk was given\n",
        "\n",
        "* native_lang: Language the talk was given in\n",
        "\n",
        "* available_lang: All available languages (lang_code) for a talk\n",
        "\n",
        "* comments: Count of comments\n",
        "\n",
        "* duration: Duration in seconds\n",
        "\n",
        "* topics: Related tags or topics for the talk\n",
        "\n",
        "* related_talks: Related talks (key='talk_id',value='title')\n",
        "\n",
        "* url: URL of the talk\n",
        "\n",
        "* description: Description of the talk\n",
        "\n",
        "* transcript: Full transcript of the talk\n",
        "\n",
        "---\n",
        "**Target Variable :**\n",
        "\n",
        "* 'views': Count of views\n",
        "\n",
        "**Goal: The main objective is to build a predictive model, which could help in predicting the views of the videos uploaded on the TEDx website.**\n",
        "#<font size=\"+2\" color='#053c96'><b> Project Workflow </b></font>\n",
        "\n",
        "1. Importing Libraries\n",
        "\n",
        "2. Loading the Dataset\n",
        "\n",
        "3. EDA on features \n",
        "\n",
        "4. Feature Engineering\n",
        "\n",
        "5. Data Cleaning\n",
        "\n",
        "6. Feature selection\n",
        "\n",
        "7. Fitting the regression models and HyperParameter Tuning\n",
        "\n",
        "8. Comparison of Models\n",
        "\n",
        "9. Final selection of the model\n",
        "\n",
        "10. Conclusion\n",
        "--- \n",
        "\n"
      ],
      "metadata": {
        "id": "x7p_1KkEkmfc"
      }
    },
    {
      "cell_type": "markdown",
      "source": [
        "# **1. Importing Libraries**"
      ],
      "metadata": {
        "id": "dRBsy-UAvU8B"
      }
    },
    {
      "cell_type": "code",
      "source": [
        "#importing the libraries\n",
        "import pandas as pd\n",
        "import numpy as np\n",
        "from datetime import datetime\n",
        "import seaborn as sns\n",
        "import matplotlib.pyplot as plt\n",
        "%matplotlib inline\n",
        "from sklearn.linear_model import Ridge, Lasso\n",
        "from sklearn.ensemble import RandomForestRegressor, GradientBoostingRegressor, ExtraTreesRegressor\n",
        "from sklearn.neural_network import MLPRegressor\n",
        "import xgboost as xgb\n",
        "from sklearn import neighbors\n",
        "from sklearn.svm import SVR\n",
        "import time\n",
        "from sklearn import metrics\n",
        "from sklearn.metrics import mean_squared_error, r2_score,mean_absolute_error\n",
        "from sklearn.preprocessing import StandardScaler, MinMaxScaler\n",
        "from sklearn.model_selection import train_test_split, KFold\n",
        "from sklearn.preprocessing import OneHotEncoder\n",
        "from sklearn.model_selection import GridSearchCV\n",
        "from sklearn.model_selection import RandomizedSearchCV\n",
        "from sklearn import ensemble\n",
        "\n",
        "import warnings\n",
        "warnings.filterwarnings('ignore')"
      ],
      "metadata": {
        "id": "b4jm88gAvAae"
      },
      "execution_count": 1,
      "outputs": []
    },
    {
      "cell_type": "markdown",
      "source": [
        "# **2. Loading the dataset**"
      ],
      "metadata": {
        "id": "yvyO17IrwITQ"
      }
    },
    {
      "cell_type": "code",
      "source": [
        "#mounting the drive\n",
        "from google.colab import drive\n",
        "drive.mount('/content/drive')"
      ],
      "metadata": {
        "colab": {
          "base_uri": "https://localhost:8080/"
        },
        "id": "JiBcPDnOwgkK",
        "outputId": "a26d3728-5160-4792-bc5b-de7e664b9645"
      },
      "execution_count": 2,
      "outputs": [
        {
          "output_type": "stream",
          "name": "stdout",
          "text": [
            "Mounted at /content/drive\n"
          ]
        }
      ]
    },
    {
      "cell_type": "code",
      "source": [
        "#loading the data file and creating a dataframe\n",
        "path='/content/drive/MyDrive/Capstone Project (AlmaBetter)/Project - 2 Ted Talks  Views Prediction /data_ted_talks.csv'\n",
        "df=pd.read_csv(path)"
      ],
      "metadata": {
        "id": "Df9brplowujL"
      },
      "execution_count": 3,
      "outputs": []
    }
  ]
}